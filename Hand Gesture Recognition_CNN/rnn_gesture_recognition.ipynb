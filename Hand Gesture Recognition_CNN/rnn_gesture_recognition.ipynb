{
  "nbformat": 4,
  "nbformat_minor": 0,
  "metadata": {
    "accelerator": "GPU",
    "colab": {
      "name": "rnn_gesture_recognition.ipynb",
      "provenance": [],
      "collapsed_sections": []
    },
    "kernelspec": {
      "display_name": "Python 3",
      "language": "python",
      "name": "python3"
    },
    "language_info": {
      "codemirror_mode": {
        "name": "ipython",
        "version": 3
      },
      "file_extension": ".py",
      "mimetype": "text/x-python",
      "name": "python",
      "nbconvert_exporter": "python",
      "pygments_lexer": "ipython3",
      "version": "3.7.3"
    }
  },
  "cells": [
    {
      "cell_type": "markdown",
      "metadata": {
        "id": "cIf8JT5roWbD"
      },
      "source": [
        "# Gesture Recognition\n",
        "In this group project, you are going to build a 3D Conv model that will be able to predict the 5 gestures correctly. Please import the following libraries to get started."
      ]
    },
    {
      "cell_type": "code",
      "metadata": {
        "id": "4xLn97-8oWbf"
      },
      "source": [
        "import numpy as np\n",
        "import os\n",
        "from scipy.misc import imread, imresize # this is deprecated\n",
        "import datetime\n",
        "import os\n",
        "\n",
        "import imageio # using as an alternative of imread as it is deprecated\n",
        "from PIL import Image # using as an alternative of imread as it is deprecated\n",
        "\n",
        "import matplotlib.pyplot as plt\n",
        "%matplotlib inline\n",
        "\n",
        "import warnings\n",
        "warnings.filterwarnings('ignore')"
      ],
      "execution_count": null,
      "outputs": []
    },
    {
      "cell_type": "markdown",
      "metadata": {
        "id": "l3u4augCoWbj"
      },
      "source": [
        "We set the random seed so that the results don't vary drastically."
      ]
    },
    {
      "cell_type": "code",
      "metadata": {
        "id": "t-Md6jp9oWbk"
      },
      "source": [
        "np.random.seed(30)\n",
        "import random as rn\n",
        "rn.seed(30)\n",
        "import tensorflow as tf\n",
        "tf.random.set_seed(30)"
      ],
      "execution_count": null,
      "outputs": []
    },
    {
      "cell_type": "markdown",
      "metadata": {
        "id": "5P_rBuZ2oWbn"
      },
      "source": [
        "In this block, you read the folder names for training and validation. You also set the `batch_size` here. Note that you set the batch size in such a way that you are able to use the GPU in full capacity. You keep increasing the batch size until the machine throws an error."
      ]
    },
    {
      "cell_type": "code",
      "metadata": {
        "id": "jHpMhz1CoWbo"
      },
      "source": [
        "train_doc = np.random.permutation(open('Project_data/train.csv').readlines())\n",
        "val_doc = np.random.permutation(open('Project_data/val.csv').readlines())\n",
        "\n",
        "batch_size = 64 #experiment with the batch size"
      ],
      "execution_count": null,
      "outputs": []
    },
    {
      "cell_type": "code",
      "metadata": {
        "colab": {
          "base_uri": "https://localhost:8080/"
        },
        "id": "Ox9HSDX8Zp4s",
        "outputId": "e6ac17b8-47e1-4bd5-b530-87dbeb83e477"
      },
      "source": [
        "len(val_doc)"
      ],
      "execution_count": null,
      "outputs": [
        {
          "output_type": "execute_result",
          "data": {
            "text/plain": [
              "100"
            ]
          },
          "metadata": {
            "tags": []
          },
          "execution_count": 4
        }
      ]
    },
    {
      "cell_type": "markdown",
      "metadata": {
        "id": "obb5K1ccoWbq"
      },
      "source": [
        "## Generator\n",
        "This is one of the most important part of the code. The overall structure of the generator has been given. In the generator, you are going to preprocess the images as you have images of 2 different dimensions as well as create a batch of video frames. You have to experiment with `img_idx`, `y`,`z` and normalization such that you get high accuracy."
      ]
    },
    {
      "cell_type": "code",
      "metadata": {
        "id": "HJ19cmH2oWbr"
      },
      "source": [
        "def generator(source_path, folder_list, batch_size):\n",
        "    print( 'Source path = ', source_path, '; batch size =', batch_size)\n",
        "    img_idx = [0,1,2,4,6,8,10,12,14,16,18,20,22,24,26,27,28,29] #create a list of image numbers you want to use for a particular video\n",
        "    while True:\n",
        "        t = np.random.permutation(folder_list)\n",
        "        num_batches = len(source_path)//batch_size # calculate the number of batches\n",
        "        for batch in range(num_batches):\n",
        "            batch_data = np.zeros((batch_size,18,84,84,3)) # x is the number of images you use for each video, (y,z) is the final size of the input images and 3 is the number of channels RGB\n",
        "            batch_labels = np.zeros((batch_size,5)) # batch_labels is the one hot representation of the output\n",
        "            for folder in range(batch_size):\n",
        "                imgs = os.listdir(source_path+'/'+ t[folder + (batch*batch_size)].split(';')[0]) # read all the images in the folder\n",
        "                for idx,item in enumerate(img_idx):\n",
        "                    image = imageio.imread(source_path+'/'+ t[folder + (batch*batch_size)].strip().split(';')[0]+'/'+imgs[item]).astype(np.float32)\n",
        "                    \n",
        "                    #crop the images and resize them. Note that the images are of 2 different shape \n",
        "                    #and the conv3D will throw error if the inputs in a batch have different shapes\n",
        "                    if image.shape[1] == 160:\n",
        "                        image = imresize(image[:,20:140,:],(84,84)).astype(np.float32) #cropping the (120X160) image to make (120X120)\n",
        "                    else:\n",
        "                        print(\"\")\n",
        "                        image = imresize(image,(84,84)).astype(np.float32)\n",
        "                    # Normalizing RGB image with mean subtraction \n",
        "                    batch_data[folder,idx,:,:,0] = image[:,:,0] - 104\n",
        "                    batch_data[folder,idx,:,:,1] = image[:,:,1] - 117\n",
        "                    batch_data[folder,idx,:,:,2] = image[:,:,2] - 123\n",
        "                    \n",
        "                batch_labels[folder, int(t[folder + (batch*batch_size)].strip().split(';')[2])] = 1\n",
        "            yield batch_data, batch_labels #you yield the batch_data and the batch_labels, remember what does yield do\n",
        "\n",
        "\n",
        "        \n",
        "        # write the code for the remaining data points which are left after full batches\n",
        "        if(len(t)%batch_size!=0):\n",
        "            batch_data = np.zeros((len(t)%batch_size,18,84,84,3)) # x is the number of images you use for each video, (y,z) is the final size of the input images and 3 is the number of channels RGB\n",
        "            batch_labels = np.zeros((len(t)%batch_size,5)) # batch_labels is the one hot representation of the output\n",
        "            for folder in range(len(t)%batch_size): # iterate over the batch_size\n",
        "                imgs = os.listdir(source_path+'/'+ t[folder + (num_batches*(len(t)%batch_size))].split(';')[0]) # read all the images in the folder\n",
        "                for idx,item in enumerate(img_idx): #  Iterate iver the frames/images of a folder to read them in\n",
        "                    image = imageio.imread(source_path+'/'+ t[folder + (num_batches*(len(t)%batch_size))].strip().split(';')[0]+'/'+imgs[item]).astype(np.float32)\n",
        "                    \n",
        "                    #crop the images and resize them. Note that the images are of 2 different shape \n",
        "                    #and the conv3D will throw error if the inputs in a batch have different shapes\n",
        "\n",
        "                    if image.shape[1] == 160:\n",
        "                        image = imresize(image[:,20:140,:],(84,84)).astype(np.float32)\n",
        "                    else:\n",
        "                        image = imresize(image,(84,84)).astype(np.float32)\n",
        "                    # Normalizing RGB image with mean subtraction\n",
        "                    batch_data[folder,idx,:,:,0] = image[:,:,0] - 104\n",
        "                    batch_data[folder,idx,:,:,1] = image[:,:,1] - 117\n",
        "                    batch_data[folder,idx,:,:,2] = image[:,:,2] - 123\n",
        "                                        \n",
        "                batch_labels[folder, int(t[folder + (num_batches*(len(t)%batch_size))].strip().split(';')[2])] = 1\n",
        "            yield batch_data, batch_labels #you yield the batch_data and the batch_labels, remember what does yield do"
      ],
      "execution_count": null,
      "outputs": []
    },
    {
      "cell_type": "markdown",
      "metadata": {
        "id": "5IFYKnCuoWbv"
      },
      "source": [
        "Note here that a video is represented above in the generator as (number of images, height, width, number of channels). Take this into consideration while creating the model architecture."
      ]
    },
    {
      "cell_type": "code",
      "metadata": {
        "colab": {
          "base_uri": "https://localhost:8080/"
        },
        "id": "mcdpnqXSoWbx",
        "outputId": "f6ab703d-f4e7-48a2-8019-3417a28926c7"
      },
      "source": [
        "curr_dt_time = datetime.datetime.now()\n",
        "train_path = 'Project_data/train'\n",
        "val_path = 'Project_data/val'\n",
        "\n",
        "num_train_sequences = len(train_doc)\n",
        "print('# training sequences =', num_train_sequences)\n",
        "num_val_sequences = len(val_doc)\n",
        "print('# validation sequences =', num_val_sequences)\n",
        "num_epochs = 30 # choose the number of epochs\n",
        "print ('# epochs =', num_epochs)"
      ],
      "execution_count": null,
      "outputs": [
        {
          "output_type": "stream",
          "text": [
            "# training sequences = 663\n",
            "# validation sequences = 100\n",
            "# epochs = 30\n"
          ],
          "name": "stdout"
        }
      ]
    },
    {
      "cell_type": "markdown",
      "metadata": {
        "id": "JG2Lk8_aoWbz"
      },
      "source": [
        "## Model\n",
        "Here you make the model using different functionalities that Keras provides. Remember to use `Conv3D` and `MaxPooling3D` and not `Conv2D` and `Maxpooling2D` for a 3D convolution model. You would want to use `TimeDistributed` while building a Conv2D + RNN model. Also remember that the last layer is the softmax. Design the network in such a way that the model is able to give good accuracy on the least number of parameters so that it can fit in the memory of the webcam."
      ]
    },
    {
      "cell_type": "code",
      "metadata": {
        "id": "QGNvYW31oWb0"
      },
      "source": [
        "from tensorflow.keras.models import Sequential, Model\n",
        "from tensorflow.keras.layers import Dense, GRU, Flatten, TimeDistributed, Flatten, BatchNormalization, Activation, Dropout\n",
        "\n",
        "from tensorflow.keras.layers import Conv3D, MaxPooling3D, Conv2D, MaxPooling2D\n",
        "from tensorflow.keras.callbacks import ModelCheckpoint, ReduceLROnPlateau\n",
        "from tensorflow.keras import optimizers\n",
        "from keras.optimizers import Adam\n",
        "\n",
        "#write your model here\n",
        "Input_shape = (18, 84, 84, 3)\n",
        "\n",
        "model = Sequential()\n",
        "model.add(Conv3D(64, (3,3,3), padding='same', input_shape=(18,84,84,3)))\n",
        "model.add(BatchNormalization())\n",
        "model.add(Activation('elu'))\n",
        "model.add(MaxPooling3D(pool_size=(2,2,1), strides=(2,2,1)))\n",
        "\n",
        "model.add(Conv3D(128, (3,3,3), padding='same'))\n",
        "model.add(BatchNormalization())\n",
        "model.add(Activation('elu'))\n",
        "model.add(MaxPooling3D(pool_size=(2,2,2), strides=(2,2,2)))\n",
        "\n",
        "model.add(Conv3D(256, (3,3,3), padding='same'))\n",
        "model.add(BatchNormalization())\n",
        "model.add(Activation('elu'))\n",
        "model.add(MaxPooling3D(pool_size=(2,2,2), strides=(2,2,2)))\n",
        "\n",
        "model.add(Conv3D(256, (3,3,3), padding='same'))\n",
        "model.add(BatchNormalization())\n",
        "model.add(Activation('elu'))\n",
        "model.add(MaxPooling3D(pool_size=(2,2,2), strides=(2,2,2)))\n",
        "\n",
        "model.add(Flatten())\n",
        "model.add(Dropout(0.5))\n",
        "model.add(Dense(512, activation='elu'))\n",
        "model.add(Dropout(0.5))\n",
        "model.add(Dense(5, activation='softmax'))"
      ],
      "execution_count": null,
      "outputs": []
    },
    {
      "cell_type": "markdown",
      "metadata": {
        "id": "KBHR7iVZoWb2"
      },
      "source": [
        "Now that you have written the model, the next step is to `compile` the model. When you print the `summary` of the model, you'll see the total number of parameters you have to train."
      ]
    },
    {
      "cell_type": "code",
      "metadata": {
        "colab": {
          "base_uri": "https://localhost:8080/"
        },
        "id": "O3YBpxkwoWb3",
        "scrolled": true,
        "outputId": "f4e9f294-e102-4976-a234-a5f18e2a1941"
      },
      "source": [
        "optimiser = optimizers.SGD(lr=0.001, decay=1e-6, momentum=0.9, nesterov=True)\n",
        "model.compile(optimizer=optimiser, loss='categorical_crossentropy', metrics=['categorical_accuracy'],run_eagerly=True)\n",
        "print (model.summary())"
      ],
      "execution_count": null,
      "outputs": [
        {
          "output_type": "stream",
          "text": [
            "Model: \"sequential\"\n",
            "_________________________________________________________________\n",
            "Layer (type)                 Output Shape              Param #   \n",
            "=================================================================\n",
            "conv3d (Conv3D)              (None, 18, 84, 84, 64)    5248      \n",
            "_________________________________________________________________\n",
            "batch_normalization (BatchNo (None, 18, 84, 84, 64)    256       \n",
            "_________________________________________________________________\n",
            "activation (Activation)      (None, 18, 84, 84, 64)    0         \n",
            "_________________________________________________________________\n",
            "max_pooling3d (MaxPooling3D) (None, 9, 42, 84, 64)     0         \n",
            "_________________________________________________________________\n",
            "conv3d_1 (Conv3D)            (None, 9, 42, 84, 128)    221312    \n",
            "_________________________________________________________________\n",
            "batch_normalization_1 (Batch (None, 9, 42, 84, 128)    512       \n",
            "_________________________________________________________________\n",
            "activation_1 (Activation)    (None, 9, 42, 84, 128)    0         \n",
            "_________________________________________________________________\n",
            "max_pooling3d_1 (MaxPooling3 (None, 4, 21, 42, 128)    0         \n",
            "_________________________________________________________________\n",
            "conv3d_2 (Conv3D)            (None, 4, 21, 42, 256)    884992    \n",
            "_________________________________________________________________\n",
            "batch_normalization_2 (Batch (None, 4, 21, 42, 256)    1024      \n",
            "_________________________________________________________________\n",
            "activation_2 (Activation)    (None, 4, 21, 42, 256)    0         \n",
            "_________________________________________________________________\n",
            "max_pooling3d_2 (MaxPooling3 (None, 2, 10, 21, 256)    0         \n",
            "_________________________________________________________________\n",
            "conv3d_3 (Conv3D)            (None, 2, 10, 21, 256)    1769728   \n",
            "_________________________________________________________________\n",
            "batch_normalization_3 (Batch (None, 2, 10, 21, 256)    1024      \n",
            "_________________________________________________________________\n",
            "activation_3 (Activation)    (None, 2, 10, 21, 256)    0         \n",
            "_________________________________________________________________\n",
            "max_pooling3d_3 (MaxPooling3 (None, 1, 5, 10, 256)     0         \n",
            "_________________________________________________________________\n",
            "flatten (Flatten)            (None, 12800)             0         \n",
            "_________________________________________________________________\n",
            "dropout (Dropout)            (None, 12800)             0         \n",
            "_________________________________________________________________\n",
            "dense (Dense)                (None, 512)               6554112   \n",
            "_________________________________________________________________\n",
            "dropout_1 (Dropout)          (None, 512)               0         \n",
            "_________________________________________________________________\n",
            "dense_1 (Dense)              (None, 5)                 2565      \n",
            "=================================================================\n",
            "Total params: 9,440,773\n",
            "Trainable params: 9,439,365\n",
            "Non-trainable params: 1,408\n",
            "_________________________________________________________________\n",
            "None\n"
          ],
          "name": "stdout"
        }
      ]
    },
    {
      "cell_type": "markdown",
      "metadata": {
        "id": "VcfUVpmpoWb4"
      },
      "source": [
        "Let us create the `train_generator` and the `val_generator` which will be used in `.fit_generator`."
      ]
    },
    {
      "cell_type": "code",
      "metadata": {
        "id": "EPzzJGoloWb5"
      },
      "source": [
        "batch_size = 64\n",
        "\n",
        "train_generator = generator(train_path, train_doc, batch_size)\n",
        "val_generator = generator(val_path, val_doc, batch_size)"
      ],
      "execution_count": null,
      "outputs": []
    },
    {
      "cell_type": "code",
      "metadata": {
        "id": "FlHSCWqgoWb6",
        "outputId": "48e6d67e-10bc-4738-c304-49bad23ace51"
      },
      "source": [
        "model_name = 'model_init' + '_' + str(curr_dt_time).replace(' ','').replace(':','_') + '/'\n",
        "    \n",
        "if not os.path.exists(model_name):\n",
        "    os.mkdir(model_name)\n",
        "        \n",
        "filepath = model_name + 'model-{epoch:05d}-{loss:.5f}-{categorical_accuracy:.5f}-{val_loss:.5f}-{val_categorical_accuracy:.5f}.h5'\n",
        "\n",
        "checkpoint = ModelCheckpoint(filepath, monitor='val_loss', verbose=1, save_best_only=False, save_weights_only=False, mode='auto', period=1)\n",
        "\n",
        "LR = ReduceLROnPlateau(monitor='val_loss', factor=0.5, patience=2, verbose=1, mode='min', min_delta=0.0001, cooldown=0, min_lr=0.00001)\n",
        "callbacks_list = [checkpoint, LR]"
      ],
      "execution_count": null,
      "outputs": [
        {
          "output_type": "stream",
          "text": [
            "WARNING: Logging before flag parsing goes to stderr.\n",
            "W0710 18:51:53.452135 140333696558912 callbacks.py:1071] `period` argument is deprecated. Please use `save_freq` to specify the frequency in number of batches seen.\n"
          ],
          "name": "stderr"
        }
      ]
    },
    {
      "cell_type": "markdown",
      "metadata": {
        "id": "jhaEcg1NoWb7"
      },
      "source": [
        "The `steps_per_epoch` and `validation_steps` are used by `fit_generator` to decide the number of next() calls it need to make."
      ]
    },
    {
      "cell_type": "code",
      "metadata": {
        "id": "-6ZAVMSboWcP"
      },
      "source": [
        "if (num_train_sequences%batch_size) == 0:\n",
        "    steps_per_epoch = int(num_train_sequences/batch_size)\n",
        "else:\n",
        "    steps_per_epoch = (num_train_sequences//batch_size) + 1\n",
        "\n",
        "if (num_val_sequences%batch_size) == 0:\n",
        "    validation_steps = int(num_val_sequences/batch_size)\n",
        "else:\n",
        "    validation_steps = (num_val_sequences//batch_size) + 1"
      ],
      "execution_count": null,
      "outputs": []
    },
    {
      "cell_type": "markdown",
      "metadata": {
        "id": "g3tqHD2ioWcQ"
      },
      "source": [
        "Let us now fit the model. This will start training the model and with the help of the checkpoints, you'll be able to save the model at the end of each epoch."
      ]
    },
    {
      "cell_type": "code",
      "metadata": {
        "colab": {
          "base_uri": "https://localhost:8080/"
        },
        "id": "rW6hOQLOoWcR",
        "outputId": "96228ed5-301a-4c63-8bbb-de9e4f2b14e9"
      },
      "source": [
        "history = model.fit(train_generator, steps_per_epoch=steps_per_epoch, epochs=num_epochs, verbose=1, \n",
        "                    callbacks=callbacks_list, validation_data=val_generator, \n",
        "                    validation_steps=validation_steps, class_weight=None, workers=1, initial_epoch=0)"
      ],
      "execution_count": null,
      "outputs": [
        {
          "output_type": "stream",
          "text": [
            "Source path =  Project_data/train ; batch size = 64\n",
            "Epoch 1/30\n",
            "11/11 [==============================] - ETA: 0s - loss: 4.3657 - categorical_accuracy: 0.3202Source path =  Project_data/val ; batch size = 64\n",
            "\n",
            "Epoch 00001: saving model to model_init_2021-07-1018_51_51.437418/model-00001-4.36566-0.32016-11.54998-0.19444.h5\n",
            "11/11 [==============================] - 21s 2s/step - loss: 4.3657 - categorical_accuracy: 0.3202 - val_loss: 11.5500 - val_categorical_accuracy: 0.1944 - lr: 0.0010\n",
            "Epoch 2/30\n",
            "11/11 [==============================] - ETA: 0s - loss: 3.1315 - categorical_accuracy: 0.4664\n",
            "Epoch 00002: saving model to model_init_2021-07-1018_51_51.437418/model-00002-3.13146-0.46640-12.36271-0.22222.h5\n",
            "11/11 [==============================] - 22s 2s/step - loss: 3.1315 - categorical_accuracy: 0.4664 - val_loss: 12.3627 - val_categorical_accuracy: 0.2222 - lr: 0.0010\n",
            "Epoch 3/30\n",
            "11/11 [==============================] - ETA: 0s - loss: 2.4212 - categorical_accuracy: 0.4032\n",
            "Epoch 00003: saving model to model_init_2021-07-1018_51_51.437418/model-00003-2.42118-0.40316-12.86096-0.19444.h5\n",
            "\n",
            "Epoch 00003: ReduceLROnPlateau reducing learning rate to 0.0005000000237487257.\n",
            "11/11 [==============================] - 22s 2s/step - loss: 2.4212 - categorical_accuracy: 0.4032 - val_loss: 12.8610 - val_categorical_accuracy: 0.1944 - lr: 0.0010\n",
            "Epoch 4/30\n",
            "11/11 [==============================] - ETA: 0s - loss: 1.8366 - categorical_accuracy: 0.5375\n",
            "Epoch 00004: saving model to model_init_2021-07-1018_51_51.437418/model-00004-1.83661-0.53755-11.41698-0.29167.h5\n",
            "11/11 [==============================] - 23s 2s/step - loss: 1.8366 - categorical_accuracy: 0.5375 - val_loss: 11.4170 - val_categorical_accuracy: 0.2917 - lr: 5.0000e-04\n",
            "Epoch 5/30\n",
            "11/11 [==============================] - ETA: 0s - loss: 1.8854 - categorical_accuracy: 0.5099\n",
            "Epoch 00005: saving model to model_init_2021-07-1018_51_51.437418/model-00005-1.88539-0.50988-10.67130-0.20833.h5\n",
            "11/11 [==============================] - 22s 2s/step - loss: 1.8854 - categorical_accuracy: 0.5099 - val_loss: 10.6713 - val_categorical_accuracy: 0.2083 - lr: 5.0000e-04\n",
            "Epoch 6/30\n",
            "11/11 [==============================] - ETA: 0s - loss: 1.2268 - categorical_accuracy: 0.5415\n",
            "Epoch 00006: saving model to model_init_2021-07-1018_51_51.437418/model-00006-1.22677-0.54150-10.36453-0.19444.h5\n",
            "11/11 [==============================] - 22s 2s/step - loss: 1.2268 - categorical_accuracy: 0.5415 - val_loss: 10.3645 - val_categorical_accuracy: 0.1944 - lr: 5.0000e-04\n",
            "Epoch 7/30\n",
            "11/11 [==============================] - ETA: 0s - loss: 1.4647 - categorical_accuracy: 0.5336\n",
            "Epoch 00007: saving model to model_init_2021-07-1018_51_51.437418/model-00007-1.46472-0.53360-7.19061-0.27778.h5\n",
            "11/11 [==============================] - 24s 2s/step - loss: 1.4647 - categorical_accuracy: 0.5336 - val_loss: 7.1906 - val_categorical_accuracy: 0.2778 - lr: 5.0000e-04\n",
            "Epoch 8/30\n",
            "11/11 [==============================] - ETA: 0s - loss: 1.3165 - categorical_accuracy: 0.5217\n",
            "Epoch 00008: saving model to model_init_2021-07-1018_51_51.437418/model-00008-1.31649-0.52174-7.70020-0.23611.h5\n",
            "11/11 [==============================] - 23s 2s/step - loss: 1.3165 - categorical_accuracy: 0.5217 - val_loss: 7.7002 - val_categorical_accuracy: 0.2361 - lr: 5.0000e-04\n",
            "Epoch 9/30\n",
            "11/11 [==============================] - ETA: 0s - loss: 1.1821 - categorical_accuracy: 0.5889\n",
            "Epoch 00009: saving model to model_init_2021-07-1018_51_51.437418/model-00009-1.18205-0.58893-6.22001-0.25000.h5\n",
            "11/11 [==============================] - 23s 2s/step - loss: 1.1821 - categorical_accuracy: 0.5889 - val_loss: 6.2200 - val_categorical_accuracy: 0.2500 - lr: 5.0000e-04\n",
            "Epoch 10/30\n",
            "11/11 [==============================] - ETA: 0s - loss: 1.1987 - categorical_accuracy: 0.5850\n",
            "Epoch 00010: saving model to model_init_2021-07-1018_51_51.437418/model-00010-1.19875-0.58498-4.90140-0.19444.h5\n",
            "11/11 [==============================] - 22s 2s/step - loss: 1.1987 - categorical_accuracy: 0.5850 - val_loss: 4.9014 - val_categorical_accuracy: 0.1944 - lr: 5.0000e-04\n",
            "Epoch 11/30\n",
            "11/11 [==============================] - ETA: 0s - loss: 1.1070 - categorical_accuracy: 0.6126\n",
            "Epoch 00011: saving model to model_init_2021-07-1018_51_51.437418/model-00011-1.10702-0.61265-4.30916-0.25000.h5\n",
            "11/11 [==============================] - 21s 2s/step - loss: 1.1070 - categorical_accuracy: 0.6126 - val_loss: 4.3092 - val_categorical_accuracy: 0.2500 - lr: 5.0000e-04\n",
            "Epoch 12/30\n",
            "11/11 [==============================] - ETA: 0s - loss: 0.9576 - categorical_accuracy: 0.6482\n",
            "Epoch 00012: saving model to model_init_2021-07-1018_51_51.437418/model-00012-0.95757-0.64822-2.45852-0.29167.h5\n",
            "11/11 [==============================] - 23s 2s/step - loss: 0.9576 - categorical_accuracy: 0.6482 - val_loss: 2.4585 - val_categorical_accuracy: 0.2917 - lr: 5.0000e-04\n",
            "Epoch 13/30\n",
            "11/11 [==============================] - ETA: 0s - loss: 0.8596 - categorical_accuracy: 0.6877\n",
            "Epoch 00013: saving model to model_init_2021-07-1018_51_51.437418/model-00013-0.85963-0.68775-2.85951-0.29167.h5\n",
            "11/11 [==============================] - 23s 2s/step - loss: 0.8596 - categorical_accuracy: 0.6877 - val_loss: 2.8595 - val_categorical_accuracy: 0.2917 - lr: 5.0000e-04\n",
            "Epoch 14/30\n",
            "11/11 [==============================] - ETA: 0s - loss: 1.1896 - categorical_accuracy: 0.5929\n",
            "Epoch 00014: saving model to model_init_2021-07-1018_51_51.437418/model-00014-1.18962-0.59289-1.93416-0.43056.h5\n",
            "11/11 [==============================] - 23s 2s/step - loss: 1.1896 - categorical_accuracy: 0.5929 - val_loss: 1.9342 - val_categorical_accuracy: 0.4306 - lr: 5.0000e-04\n",
            "Epoch 15/30\n",
            "11/11 [==============================] - ETA: 0s - loss: 1.0102 - categorical_accuracy: 0.6324\n",
            "Epoch 00015: saving model to model_init_2021-07-1018_51_51.437418/model-00015-1.01017-0.63241-0.98683-0.59722.h5\n",
            "11/11 [==============================] - 23s 2s/step - loss: 1.0102 - categorical_accuracy: 0.6324 - val_loss: 0.9868 - val_categorical_accuracy: 0.5972 - lr: 5.0000e-04\n",
            "Epoch 16/30\n",
            "11/11 [==============================] - ETA: 0s - loss: 0.8588 - categorical_accuracy: 0.6917\n",
            "Epoch 00016: saving model to model_init_2021-07-1018_51_51.437418/model-00016-0.85875-0.69170-1.20028-0.52778.h5\n",
            "11/11 [==============================] - 21s 2s/step - loss: 0.8588 - categorical_accuracy: 0.6917 - val_loss: 1.2003 - val_categorical_accuracy: 0.5278 - lr: 5.0000e-04\n",
            "Epoch 17/30\n",
            "11/11 [==============================] - ETA: 0s - loss: 0.8856 - categorical_accuracy: 0.6877\n",
            "Epoch 00017: saving model to model_init_2021-07-1018_51_51.437418/model-00017-0.88559-0.68775-1.11035-0.62500.h5\n",
            "\n",
            "Epoch 00017: ReduceLROnPlateau reducing learning rate to 0.0002500000118743628.\n",
            "11/11 [==============================] - 23s 2s/step - loss: 0.8856 - categorical_accuracy: 0.6877 - val_loss: 1.1103 - val_categorical_accuracy: 0.6250 - lr: 5.0000e-04\n",
            "Epoch 18/30\n",
            "11/11 [==============================] - ETA: 0s - loss: 1.0165 - categorical_accuracy: 0.6047\n",
            "Epoch 00018: saving model to model_init_2021-07-1018_51_51.437418/model-00018-1.01648-0.60474-0.98502-0.61111.h5\n",
            "11/11 [==============================] - 23s 2s/step - loss: 1.0165 - categorical_accuracy: 0.6047 - val_loss: 0.9850 - val_categorical_accuracy: 0.6111 - lr: 2.5000e-04\n",
            "Epoch 19/30\n",
            "11/11 [==============================] - ETA: 0s - loss: 0.8557 - categorical_accuracy: 0.6877\n",
            "Epoch 00019: saving model to model_init_2021-07-1018_51_51.437418/model-00019-0.85571-0.68775-0.88183-0.69444.h5\n",
            "11/11 [==============================] - 24s 2s/step - loss: 0.8557 - categorical_accuracy: 0.6877 - val_loss: 0.8818 - val_categorical_accuracy: 0.6944 - lr: 2.5000e-04\n",
            "Epoch 20/30\n",
            "11/11 [==============================] - ETA: 0s - loss: 0.7669 - categorical_accuracy: 0.7312\n",
            "Epoch 00020: saving model to model_init_2021-07-1018_51_51.437418/model-00020-0.76688-0.73123-0.80115-0.73611.h5\n",
            "11/11 [==============================] - 23s 2s/step - loss: 0.7669 - categorical_accuracy: 0.7312 - val_loss: 0.8012 - val_categorical_accuracy: 0.7361 - lr: 2.5000e-04\n",
            "Epoch 21/30\n",
            "11/11 [==============================] - ETA: 0s - loss: 0.8370 - categorical_accuracy: 0.6798\n",
            "Epoch 00021: saving model to model_init_2021-07-1018_51_51.437418/model-00021-0.83700-0.67984-0.93445-0.66667.h5\n",
            "11/11 [==============================] - 22s 2s/step - loss: 0.8370 - categorical_accuracy: 0.6798 - val_loss: 0.9345 - val_categorical_accuracy: 0.6667 - lr: 2.5000e-04\n",
            "Epoch 22/30\n",
            "11/11 [==============================] - ETA: 0s - loss: 0.7214 - categorical_accuracy: 0.7273\n",
            "Epoch 00022: saving model to model_init_2021-07-1018_51_51.437418/model-00022-0.72141-0.72727-0.65256-0.79167.h5\n",
            "11/11 [==============================] - 22s 2s/step - loss: 0.7214 - categorical_accuracy: 0.7273 - val_loss: 0.6526 - val_categorical_accuracy: 0.7917 - lr: 2.5000e-04\n",
            "Epoch 23/30\n",
            "11/11 [==============================] - ETA: 0s - loss: 0.7103 - categorical_accuracy: 0.7431\n",
            "Epoch 00023: saving model to model_init_2021-07-1018_51_51.437418/model-00023-0.71031-0.74308-0.68295-0.72222.h5\n",
            "11/11 [==============================] - 23s 2s/step - loss: 0.7103 - categorical_accuracy: 0.7431 - val_loss: 0.6830 - val_categorical_accuracy: 0.7222 - lr: 2.5000e-04\n",
            "Epoch 24/30\n",
            "11/11 [==============================] - ETA: 0s - loss: 0.6382 - categorical_accuracy: 0.7668\n",
            "Epoch 00024: saving model to model_init_2021-07-1018_51_51.437418/model-00024-0.63824-0.76680-0.67386-0.69444.h5\n",
            "\n",
            "Epoch 00024: ReduceLROnPlateau reducing learning rate to 0.0001250000059371814.\n",
            "11/11 [==============================] - 23s 2s/step - loss: 0.6382 - categorical_accuracy: 0.7668 - val_loss: 0.6739 - val_categorical_accuracy: 0.6944 - lr: 2.5000e-04\n",
            "Epoch 25/30\n",
            "11/11 [==============================] - ETA: 0s - loss: 0.7784 - categorical_accuracy: 0.7154\n",
            "Epoch 00025: saving model to model_init_2021-07-1018_51_51.437418/model-00025-0.77843-0.71542-0.68981-0.73611.h5\n",
            "11/11 [==============================] - 22s 2s/step - loss: 0.7784 - categorical_accuracy: 0.7154 - val_loss: 0.6898 - val_categorical_accuracy: 0.7361 - lr: 1.2500e-04\n",
            "Epoch 26/30\n",
            "11/11 [==============================] - ETA: 0s - loss: 0.5921 - categorical_accuracy: 0.7391\n",
            "Epoch 00026: saving model to model_init_2021-07-1018_51_51.437418/model-00026-0.59212-0.73913-0.87029-0.63889.h5\n",
            "\n",
            "Epoch 00026: ReduceLROnPlateau reducing learning rate to 6.25000029685907e-05.\n",
            "11/11 [==============================] - 23s 2s/step - loss: 0.5921 - categorical_accuracy: 0.7391 - val_loss: 0.8703 - val_categorical_accuracy: 0.6389 - lr: 1.2500e-04\n",
            "Epoch 27/30\n",
            "11/11 [==============================] - ETA: 0s - loss: 0.6670 - categorical_accuracy: 0.7431\n",
            "Epoch 00027: saving model to model_init_2021-07-1018_51_51.437418/model-00027-0.66702-0.74308-0.67974-0.70833.h5\n",
            "11/11 [==============================] - 23s 2s/step - loss: 0.6670 - categorical_accuracy: 0.7431 - val_loss: 0.6797 - val_categorical_accuracy: 0.7083 - lr: 6.2500e-05\n",
            "Epoch 28/30\n",
            "11/11 [==============================] - ETA: 0s - loss: 0.7524 - categorical_accuracy: 0.7312\n",
            "Epoch 00028: saving model to model_init_2021-07-1018_51_51.437418/model-00028-0.75239-0.73123-0.67886-0.72222.h5\n",
            "\n",
            "Epoch 00028: ReduceLROnPlateau reducing learning rate to 3.125000148429535e-05.\n",
            "11/11 [==============================] - 23s 2s/step - loss: 0.7524 - categorical_accuracy: 0.7312 - val_loss: 0.6789 - val_categorical_accuracy: 0.7222 - lr: 6.2500e-05\n",
            "Epoch 29/30\n",
            "11/11 [==============================] - ETA: 0s - loss: 0.6871 - categorical_accuracy: 0.7273\n",
            "Epoch 00029: saving model to model_init_2021-07-1018_51_51.437418/model-00029-0.68713-0.72727-0.45212-0.80556.h5\n",
            "11/11 [==============================] - 23s 2s/step - loss: 0.6871 - categorical_accuracy: 0.7273 - val_loss: 0.4521 - val_categorical_accuracy: 0.8056 - lr: 3.1250e-05\n",
            "Epoch 30/30\n",
            "11/11 [==============================] - ETA: 0s - loss: 0.5752 - categorical_accuracy: 0.7668\n",
            "Epoch 00030: saving model to model_init_2021-07-1018_51_51.437418/model-00030-0.57520-0.76680-0.67924-0.76389.h5\n",
            "11/11 [==============================] - 23s 2s/step - loss: 0.5752 - categorical_accuracy: 0.7668 - val_loss: 0.6792 - val_categorical_accuracy: 0.7639 - lr: 3.1250e-05\n"
          ],
          "name": "stdout"
        }
      ]
    },
    {
      "cell_type": "code",
      "metadata": {
        "id": "qhuj3ukWoWcS",
        "outputId": "c2eec710-a6d8-453f-e226-52d9e36c000b"
      },
      "source": [
        "fig, axes = plt.subplots(nrows=1, ncols=2, figsize=(16,4))\n",
        "axes[0].plot(history.history['categorical_accuracy'])   \n",
        "axes[0].plot(history.history['val_categorical_accuracy'])\n",
        "axes[0].legend(['categorical_accuracy','val_categorical_accuracy'])\n",
        "\n",
        "axes[1].plot(history.history['loss'])   \n",
        "axes[1].plot(history.history['val_loss'])\n",
        "axes[1].legend(['loss','val_loss'])"
      ],
      "execution_count": null,
      "outputs": [
        {
          "output_type": "execute_result",
          "data": {
            "text/plain": [
              "<matplotlib.legend.Legend at 0x7fa13c382710>"
            ]
          },
          "metadata": {
            "tags": []
          },
          "execution_count": 13
        },
        {
          "output_type": "display_data",
          "data": {
            "image/png": "[encoded data removed]",
            "text/plain": [
              "<Figure size 1152x288 with 2 Axes>"
            ]
          },
          "metadata": {
            "tags": [],
            "needs_background": "light"
          }
        }
      ]
    },
    {
      "cell_type": "code",
      "metadata": {
        "id": "Cxwbdaf7IXbX",
        "outputId": "fe76e727-0a04-4c9f-ebc1-9d89ce80fa59"
      },
      "source": [
        "print(\"completed\")\n",
        "# h5 file link \"https://drive.google.com/file/d/1Yratzq8Rg7Rra6yR2tld42jd6SeOORS8/view?usp=sharing\""
      ],
      "execution_count": null,
      "outputs": [
        {
          "output_type": "stream",
          "text": [
            "completed\n"
          ],
          "name": "stdout"
        }
      ]
    }
  ]
}